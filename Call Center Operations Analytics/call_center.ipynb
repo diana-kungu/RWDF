{
 "cells": [
  {
   "cell_type": "markdown",
   "metadata": {},
   "source": [
    "**CALL CENTER OPERATIONS ANALYTICS** <br>\n",
    "\n",
    "Author Diana Kung'u"
   ]
  },
  {
   "cell_type": "markdown",
   "metadata": {},
   "source": [
    "Questions:\n",
    "1. **Number/proportion of Calls per Reason** <br>\n",
    "     - summary numbers\n",
    "2. **Call Center activity peak analysis** <br> \n",
    "     - Distribution of Calls by day of week/month and hour of day\n",
    "     \n",
    "3. **Queue Analysis** <br> \n",
    "     - Abandonment rate <br>\n",
    "\n",
    "     - Estimate number of potential customers lost.\n",
    "\n",
    "     - Wait Duration <br>\n",
    "4. **Schedule Optimization** <br> \n",
    "     - Utilization rate/idle time <br>\n",
    "     - Incoming calls\n",
    "\n",
    "5. **Agent Performance**\n"
   ]
  },
  {
   "cell_type": "code",
   "execution_count": 1,
   "metadata": {},
   "outputs": [],
   "source": [
    "# Load libraries\n",
    "import pandas as pd\n",
    "import numpy as np\n",
    "\n",
    "#plotting\n",
    "import matplotlib.pyplot as plt\n",
    "%matplotlib inline\n",
    "plt.style.use('ggplot')\n",
    "import seaborn as sns\n",
    "sns.set(style='white')"
   ]
  },
  {
   "cell_type": "code",
   "execution_count": 2,
   "metadata": {},
   "outputs": [],
   "source": [
    "\n",
    "#Read data\n",
    "#.............................................................................................\n",
    "chunks = pd.read_csv(r'.\\Data\\call center.csv', parse_dates=['Call Date Time'], chunksize= 5000)\n",
    "call_df = pd.concat(chunks, ignore_index= True)"
   ]
  },
  {
   "cell_type": "code",
   "execution_count": 3,
   "metadata": {},
   "outputs": [
    {
     "data": {
      "text/html": [
       "<div>\n",
       "<style scoped>\n",
       "    .dataframe tbody tr th:only-of-type {\n",
       "        vertical-align: middle;\n",
       "    }\n",
       "\n",
       "    .dataframe tbody tr th {\n",
       "        vertical-align: top;\n",
       "    }\n",
       "\n",
       "    .dataframe thead th {\n",
       "        text-align: right;\n",
       "    }\n",
       "</style>\n",
       "<table border=\"1\" class=\"dataframe\">\n",
       "  <thead>\n",
       "    <tr style=\"text-align: right;\">\n",
       "      <th></th>\n",
       "      <th>Abandon Flag</th>\n",
       "      <th>Agent</th>\n",
       "      <th>Agent Selection Group</th>\n",
       "      <th>Call #</th>\n",
       "      <th>Call Date Time</th>\n",
       "      <th>Call Reason</th>\n",
       "      <th>Customer</th>\n",
       "      <th>First Contact Resolution Flag</th>\n",
       "      <th>Talk Time (s)</th>\n",
       "      <th>Wait Time (s)</th>\n",
       "    </tr>\n",
       "  </thead>\n",
       "  <tbody>\n",
       "    <tr>\n",
       "      <th>0</th>\n",
       "      <td>N</td>\n",
       "      <td>Anabel Grebert</td>\n",
       "      <td>Other</td>\n",
       "      <td>3800023</td>\n",
       "      <td>2021-11-30 09:46:00</td>\n",
       "      <td>Billing Questions</td>\n",
       "      <td>Anderson, Schoen and Pfannerstill</td>\n",
       "      <td>N</td>\n",
       "      <td>143</td>\n",
       "      <td>5</td>\n",
       "    </tr>\n",
       "    <tr>\n",
       "      <th>1</th>\n",
       "      <td>N</td>\n",
       "      <td>Anabel Grebert</td>\n",
       "      <td>Other</td>\n",
       "      <td>3796097</td>\n",
       "      <td>2021-11-29 08:21:00</td>\n",
       "      <td>Billing Questions</td>\n",
       "      <td>Anderson, Schoen and Pfannerstill</td>\n",
       "      <td>N</td>\n",
       "      <td>38</td>\n",
       "      <td>6</td>\n",
       "    </tr>\n",
       "    <tr>\n",
       "      <th>2</th>\n",
       "      <td>N</td>\n",
       "      <td>Anabel Grebert</td>\n",
       "      <td>Other</td>\n",
       "      <td>3772171</td>\n",
       "      <td>2021-11-18 10:20:00</td>\n",
       "      <td>Billing Questions</td>\n",
       "      <td>Anderson, Schoen and Pfannerstill</td>\n",
       "      <td>N</td>\n",
       "      <td>54</td>\n",
       "      <td>6</td>\n",
       "    </tr>\n",
       "  </tbody>\n",
       "</table>\n",
       "</div>"
      ],
      "text/plain": [
       "  Abandon Flag           Agent Agent Selection Group   Call #  \\\n",
       "0            N  Anabel Grebert                 Other  3800023   \n",
       "1            N  Anabel Grebert                 Other  3796097   \n",
       "2            N  Anabel Grebert                 Other  3772171   \n",
       "\n",
       "       Call Date Time        Call Reason                           Customer  \\\n",
       "0 2021-11-30 09:46:00  Billing Questions  Anderson, Schoen and Pfannerstill   \n",
       "1 2021-11-29 08:21:00  Billing Questions  Anderson, Schoen and Pfannerstill   \n",
       "2 2021-11-18 10:20:00  Billing Questions  Anderson, Schoen and Pfannerstill   \n",
       "\n",
       "  First Contact Resolution Flag  Talk Time (s)  Wait Time (s)  \n",
       "0                             N            143              5  \n",
       "1                             N             38              6  \n",
       "2                             N             54              6  "
      ]
     },
     "execution_count": 3,
     "metadata": {},
     "output_type": "execute_result"
    }
   ],
   "source": [
    "df = call_df.copy()\n",
    "df.head(3)"
   ]
  },
  {
   "cell_type": "markdown",
   "metadata": {},
   "source": [
    "**Data Preparation**\n"
   ]
  },
  {
   "cell_type": "code",
   "execution_count": 4,
   "metadata": {},
   "outputs": [
    {
     "data": {
      "text/html": [
       "<div>\n",
       "<style scoped>\n",
       "    .dataframe tbody tr th:only-of-type {\n",
       "        vertical-align: middle;\n",
       "    }\n",
       "\n",
       "    .dataframe tbody tr th {\n",
       "        vertical-align: top;\n",
       "    }\n",
       "\n",
       "    .dataframe thead th {\n",
       "        text-align: right;\n",
       "    }\n",
       "</style>\n",
       "<table border=\"1\" class=\"dataframe\">\n",
       "  <thead>\n",
       "    <tr style=\"text-align: right;\">\n",
       "      <th></th>\n",
       "      <th>Abandon Flag</th>\n",
       "      <th>Agent</th>\n",
       "      <th>Agent Selection Group</th>\n",
       "      <th>Call #</th>\n",
       "      <th>Call Date Time</th>\n",
       "      <th>Call Reason</th>\n",
       "      <th>Customer</th>\n",
       "      <th>First Contact Resolution Flag</th>\n",
       "      <th>Talk Time (s)</th>\n",
       "      <th>Wait Time (s)</th>\n",
       "      <th>Call Date</th>\n",
       "      <th>Call Time</th>\n",
       "    </tr>\n",
       "  </thead>\n",
       "  <tbody>\n",
       "    <tr>\n",
       "      <th>0</th>\n",
       "      <td>N</td>\n",
       "      <td>Anabel Grebert</td>\n",
       "      <td>Other</td>\n",
       "      <td>3800023</td>\n",
       "      <td>2021-11-30 09:46:00</td>\n",
       "      <td>Billing Questions</td>\n",
       "      <td>Anderson, Schoen and Pfannerstill</td>\n",
       "      <td>N</td>\n",
       "      <td>143</td>\n",
       "      <td>5</td>\n",
       "      <td>2021-11-30</td>\n",
       "      <td>09:46</td>\n",
       "    </tr>\n",
       "    <tr>\n",
       "      <th>1</th>\n",
       "      <td>N</td>\n",
       "      <td>Anabel Grebert</td>\n",
       "      <td>Other</td>\n",
       "      <td>3796097</td>\n",
       "      <td>2021-11-29 08:21:00</td>\n",
       "      <td>Billing Questions</td>\n",
       "      <td>Anderson, Schoen and Pfannerstill</td>\n",
       "      <td>N</td>\n",
       "      <td>38</td>\n",
       "      <td>6</td>\n",
       "      <td>2021-11-29</td>\n",
       "      <td>08:21</td>\n",
       "    </tr>\n",
       "  </tbody>\n",
       "</table>\n",
       "</div>"
      ],
      "text/plain": [
       "  Abandon Flag           Agent Agent Selection Group   Call #  \\\n",
       "0            N  Anabel Grebert                 Other  3800023   \n",
       "1            N  Anabel Grebert                 Other  3796097   \n",
       "\n",
       "       Call Date Time        Call Reason                           Customer  \\\n",
       "0 2021-11-30 09:46:00  Billing Questions  Anderson, Schoen and Pfannerstill   \n",
       "1 2021-11-29 08:21:00  Billing Questions  Anderson, Schoen and Pfannerstill   \n",
       "\n",
       "  First Contact Resolution Flag  Talk Time (s)  Wait Time (s)  Call Date  \\\n",
       "0                             N            143              5 2021-11-30   \n",
       "1                             N             38              6 2021-11-29   \n",
       "\n",
       "  Call Time  \n",
       "0     09:46  \n",
       "1     08:21  "
      ]
     },
     "execution_count": 4,
     "metadata": {},
     "output_type": "execute_result"
    }
   ],
   "source": [
    "#Split call date and time fields\n",
    "Call_Date, Call_Time= zip(*[(d.date(), d.time()) for d in df['Call Date Time']])\n",
    "df['Call Date'], df['Call Time'] =[Call_Date, Call_Time]\n",
    "\n",
    "#Format Date and time columns to datetime objects\n",
    "df['Call Date'] = pd.to_datetime(df['Call Date'], format='%Y-%m-%d')\n",
    "df['Call Time'] = df['Call Time'].apply(lambda x: x.strftime('%H:%M'))\n",
    "df.head(2)"
   ]
  },
  {
   "cell_type": "code",
   "execution_count": 5,
   "metadata": {},
   "outputs": [
    {
     "data": {
      "text/html": [
       "<div>\n",
       "<style scoped>\n",
       "    .dataframe tbody tr th:only-of-type {\n",
       "        vertical-align: middle;\n",
       "    }\n",
       "\n",
       "    .dataframe tbody tr th {\n",
       "        vertical-align: top;\n",
       "    }\n",
       "\n",
       "    .dataframe thead th {\n",
       "        text-align: right;\n",
       "    }\n",
       "</style>\n",
       "<table border=\"1\" class=\"dataframe\">\n",
       "  <thead>\n",
       "    <tr style=\"text-align: right;\">\n",
       "      <th></th>\n",
       "      <th>Abandon Flag</th>\n",
       "      <th>Agent</th>\n",
       "      <th>Agent Selection Group</th>\n",
       "      <th>Call #</th>\n",
       "      <th>Call Date Time</th>\n",
       "      <th>Call Reason</th>\n",
       "      <th>Customer</th>\n",
       "      <th>First Contact Resolution Flag</th>\n",
       "      <th>Talk Time (s)</th>\n",
       "      <th>Wait Time (s)</th>\n",
       "      <th>Call Date</th>\n",
       "      <th>Call Time</th>\n",
       "      <th>Year</th>\n",
       "      <th>Month</th>\n",
       "      <th>Day of Week</th>\n",
       "      <th>Hour</th>\n",
       "      <th>Day</th>\n",
       "    </tr>\n",
       "  </thead>\n",
       "  <tbody>\n",
       "    <tr>\n",
       "      <th>0</th>\n",
       "      <td>N</td>\n",
       "      <td>Anabel Grebert</td>\n",
       "      <td>Other</td>\n",
       "      <td>3800023</td>\n",
       "      <td>2021-11-30 09:46:00</td>\n",
       "      <td>Billing Questions</td>\n",
       "      <td>Anderson, Schoen and Pfannerstill</td>\n",
       "      <td>N</td>\n",
       "      <td>143</td>\n",
       "      <td>5</td>\n",
       "      <td>2021-11-30</td>\n",
       "      <td>09:46</td>\n",
       "      <td>2021</td>\n",
       "      <td>Nov</td>\n",
       "      <td>Tuesday</td>\n",
       "      <td>9</td>\n",
       "      <td>30</td>\n",
       "    </tr>\n",
       "    <tr>\n",
       "      <th>1</th>\n",
       "      <td>N</td>\n",
       "      <td>Anabel Grebert</td>\n",
       "      <td>Other</td>\n",
       "      <td>3796097</td>\n",
       "      <td>2021-11-29 08:21:00</td>\n",
       "      <td>Billing Questions</td>\n",
       "      <td>Anderson, Schoen and Pfannerstill</td>\n",
       "      <td>N</td>\n",
       "      <td>38</td>\n",
       "      <td>6</td>\n",
       "      <td>2021-11-29</td>\n",
       "      <td>08:21</td>\n",
       "      <td>2021</td>\n",
       "      <td>Nov</td>\n",
       "      <td>Monday</td>\n",
       "      <td>8</td>\n",
       "      <td>29</td>\n",
       "    </tr>\n",
       "    <tr>\n",
       "      <th>2</th>\n",
       "      <td>N</td>\n",
       "      <td>Anabel Grebert</td>\n",
       "      <td>Other</td>\n",
       "      <td>3772171</td>\n",
       "      <td>2021-11-18 10:20:00</td>\n",
       "      <td>Billing Questions</td>\n",
       "      <td>Anderson, Schoen and Pfannerstill</td>\n",
       "      <td>N</td>\n",
       "      <td>54</td>\n",
       "      <td>6</td>\n",
       "      <td>2021-11-18</td>\n",
       "      <td>10:20</td>\n",
       "      <td>2021</td>\n",
       "      <td>Nov</td>\n",
       "      <td>Thursday</td>\n",
       "      <td>10</td>\n",
       "      <td>18</td>\n",
       "    </tr>\n",
       "  </tbody>\n",
       "</table>\n",
       "</div>"
      ],
      "text/plain": [
       "  Abandon Flag           Agent Agent Selection Group   Call #  \\\n",
       "0            N  Anabel Grebert                 Other  3800023   \n",
       "1            N  Anabel Grebert                 Other  3796097   \n",
       "2            N  Anabel Grebert                 Other  3772171   \n",
       "\n",
       "       Call Date Time        Call Reason                           Customer  \\\n",
       "0 2021-11-30 09:46:00  Billing Questions  Anderson, Schoen and Pfannerstill   \n",
       "1 2021-11-29 08:21:00  Billing Questions  Anderson, Schoen and Pfannerstill   \n",
       "2 2021-11-18 10:20:00  Billing Questions  Anderson, Schoen and Pfannerstill   \n",
       "\n",
       "  First Contact Resolution Flag  Talk Time (s)  Wait Time (s)  Call Date  \\\n",
       "0                             N            143              5 2021-11-30   \n",
       "1                             N             38              6 2021-11-29   \n",
       "2                             N             54              6 2021-11-18   \n",
       "\n",
       "  Call Time  Year Month Day of Week  Hour  Day  \n",
       "0     09:46  2021   Nov     Tuesday     9   30  \n",
       "1     08:21  2021   Nov      Monday     8   29  \n",
       "2     10:20  2021   Nov    Thursday    10   18  "
      ]
     },
     "execution_count": 5,
     "metadata": {},
     "output_type": "execute_result"
    }
   ],
   "source": [
    "# Parse the Year, Month Day, and hour of each call\n",
    "df['Year'] = df['Call Date'].dt.year\n",
    "df['Month'] = [d.strftime(\"%b\") for d in df['Call Date']]\n",
    "df['Day of Week'] = [d.strftime(\"%A\") for d in df['Call Date']]\n",
    "df['Hour'] =  df['Call Date Time'].dt.hour\n",
    "df['Day'] = df['Call Date'].dt.day\n",
    "df.head(3)\n"
   ]
  },
  {
   "cell_type": "code",
   "execution_count": 6,
   "metadata": {},
   "outputs": [],
   "source": [
    "#Duplicated Call #\n",
    "df.drop_duplicates(keep='first', inplace= True)\n",
    "#df[df.duplicated(['Call #'])]\n",
    "df.drop_duplicates('Call #', keep='first', inplace= True)"
   ]
  },
  {
   "cell_type": "code",
   "execution_count": 7,
   "metadata": {},
   "outputs": [],
   "source": [
    "# Bin Wait time\n",
    "wait_bin = [0, 30, 90, 180, 300, 10000]\n",
    "wait_bin_labels = ['<30s', '30-90s', '91-180s', '181-300s', '>300s']\n",
    "df['Wait Time Bins'] = pd.cut(df['Wait Time (s)'], bins= wait_bin, labels= wait_bin_labels)"
   ]
  },
  {
   "cell_type": "code",
   "execution_count": 8,
   "metadata": {},
   "outputs": [
    {
     "data": {
      "text/plain": [
       "1 -3 mins     81598\n",
       "3- 5 mins     67296\n",
       "5 - 8 mins    40947\n",
       "<1 min        27642\n",
       ">8 mins       22990\n",
       "Name: Talk Time Bins, dtype: int64"
      ]
     },
     "execution_count": 8,
     "metadata": {},
     "output_type": "execute_result"
    }
   ],
   "source": [
    "talk_bin = [0, 60, 180, 300, 480, 10000]\n",
    "talk_bin_labels = ['<1 min', '1 -3 mins', '3- 5 mins', '5 - 8 mins', '>8 mins']\n",
    "df['Talk Time Bins'] = pd.cut(df['Talk Time (s)'], bins= talk_bin, labels= talk_bin_labels)\n",
    "df['Talk Time Bins'].value_counts()"
   ]
  },
  {
   "cell_type": "code",
   "execution_count": 10,
   "metadata": {},
   "outputs": [],
   "source": [
    "df.to_csv(r'.\\call_center_cleaned.csv', index= False)"
   ]
  },
  {
   "cell_type": "markdown",
   "metadata": {},
   "source": [
    "1. **Summary Analysis**<br>\n",
    "\n",
    "What is the number/proportion of incoming calls per reason. <br>\n",
    "Total number of agents / Total number of customers <br>\n",
    "Number of incoming calls. <br>"
   ]
  },
  {
   "cell_type": "markdown",
   "metadata": {},
   "source": [
    "i. Frequency of Calls by reason"
   ]
  },
  {
   "cell_type": "code",
   "execution_count": null,
   "metadata": {},
   "outputs": [
    {
     "data": {
      "text/html": [
       "<div>\n",
       "<style scoped>\n",
       "    .dataframe tbody tr th:only-of-type {\n",
       "        vertical-align: middle;\n",
       "    }\n",
       "\n",
       "    .dataframe tbody tr th {\n",
       "        vertical-align: top;\n",
       "    }\n",
       "\n",
       "    .dataframe thead th {\n",
       "        text-align: right;\n",
       "    }\n",
       "</style>\n",
       "<table border=\"1\" class=\"dataframe\">\n",
       "  <thead>\n",
       "    <tr style=\"text-align: right;\">\n",
       "      <th></th>\n",
       "      <th>Call Reason</th>\n",
       "      <th>No_Calls</th>\n",
       "      <th>Proportion</th>\n",
       "      <th>Proportion %</th>\n",
       "    </tr>\n",
       "  </thead>\n",
       "  <tbody>\n",
       "    <tr>\n",
       "      <th>0</th>\n",
       "      <td>Billing Questions</td>\n",
       "      <td>53107</td>\n",
       "      <td>22.061548</td>\n",
       "      <td>22.1%</td>\n",
       "    </tr>\n",
       "    <tr>\n",
       "      <th>1</th>\n",
       "      <td>Internet Outage</td>\n",
       "      <td>69534</td>\n",
       "      <td>28.885602</td>\n",
       "      <td>28.9%</td>\n",
       "    </tr>\n",
       "    <tr>\n",
       "      <th>2</th>\n",
       "      <td>New Customer</td>\n",
       "      <td>5580</td>\n",
       "      <td>2.318027</td>\n",
       "      <td>2.3%</td>\n",
       "    </tr>\n",
       "    <tr>\n",
       "      <th>3</th>\n",
       "      <td>Other</td>\n",
       "      <td>889</td>\n",
       "      <td>0.369306</td>\n",
       "      <td>0.4%</td>\n",
       "    </tr>\n",
       "    <tr>\n",
       "      <th>4</th>\n",
       "      <td>Product/Service Problems</td>\n",
       "      <td>20950</td>\n",
       "      <td>8.702985</td>\n",
       "      <td>8.7%</td>\n",
       "    </tr>\n",
       "    <tr>\n",
       "      <th>5</th>\n",
       "      <td>Technical Issues</td>\n",
       "      <td>90662</td>\n",
       "      <td>37.662532</td>\n",
       "      <td>37.7%</td>\n",
       "    </tr>\n",
       "  </tbody>\n",
       "</table>\n",
       "</div>"
      ],
      "text/plain": [
       "                Call Reason  No_Calls  Proportion Proportion %\n",
       "0         Billing Questions     53107   22.061548        22.1%\n",
       "1           Internet Outage     69534   28.885602        28.9%\n",
       "2              New Customer      5580    2.318027         2.3%\n",
       "3                     Other       889    0.369306         0.4%\n",
       "4  Product/Service Problems     20950    8.702985         8.7%\n",
       "5          Technical Issues     90662   37.662532        37.7%"
      ]
     },
     "execution_count": 9,
     "metadata": {},
     "output_type": "execute_result"
    }
   ],
   "source": [
    "# Unique call reasons\n",
    "reasons  = df['Call Reason'].unique().tolist()\n",
    "#Frequency of each reason\n",
    "df_reasons = df.groupby(['Call Reason']).agg(No_Calls =('Call #', 'count')).reset_index()\n",
    "df_reasons['Proportion'] =df_reasons['No_Calls']*100/df_reasons['No_Calls'].sum()\n",
    "df_reasons['Proportion %'] = df_reasons['Proportion'].map('{:,.1f}%'.format)\n",
    "df_reasons"
   ]
  },
  {
   "cell_type": "code",
   "execution_count": null,
   "metadata": {},
   "outputs": [
    {
     "data": {
      "text/plain": [
       "Text(0, 0.5, '')"
      ]
     },
     "execution_count": 10,
     "metadata": {},
     "output_type": "execute_result"
    },
    {
     "data": {
      "image/png": "[encoded data removed]",
      "text/plain": [
       "<Figure size 864x360 with 1 Axes>"
      ]
     },
     "metadata": {},
     "output_type": "display_data"
    }
   ],
   "source": [
    "fig, ax = plt.subplots(1,1, figsize=(12,5))\n",
    "plt.title('Proportion of Calls per Reason', fontsize = 16)\n",
    "\n",
    "sns.despine(bottom = True, left = True)\n",
    "plot = sns.barplot(x = 'Call Reason', y = 'Proportion', data = df_reasons)\n",
    "\n",
    "#Annotate bar plots\n",
    "for bar, annot in zip(plot.patches, df_reasons['Proportion %']): \n",
    "    plot.annotate(annot,\n",
    "                   (bar.get_x() + bar.get_width() / 2,\n",
    "                    bar.get_height()), ha='center', va='center',\n",
    "                   size=12, xytext=(0, 8),\n",
    "                   textcoords='offset points')\n",
    "ax.set_ylabel('') "
   ]
  },
  {
   "cell_type": "markdown",
   "metadata": {},
   "source": [
    "Technical Issues, Internet Outages and Billing Questions account for the largest number\n",
    "of calls."
   ]
  },
  {
   "cell_type": "markdown",
   "metadata": {},
   "source": [
    "ii. Total number of agents and customers"
   ]
  },
  {
   "cell_type": "code",
   "execution_count": null,
   "metadata": {},
   "outputs": [],
   "source": [
    "#Total Incoming call in 2021\n",
    "total_incoming_calls = len(df[df['Year'] ==2021])\n",
    "#No. of Agents\n",
    "no_agents = df[df['Year'] ==2021]['Agent'].nunique()\n",
    "no_customers = df['Customer'].nunique()"
   ]
  },
  {
   "cell_type": "markdown",
   "metadata": {},
   "source": [
    "2. **Call Center activity: Peak Analysis** <br>\n",
    "\n",
    "   i). **Day of week**\n",
    "\n",
    "Number of calls per reason by day/day of week are evenly distributed."
   ]
  },
  {
   "cell_type": "code",
   "execution_count": null,
   "metadata": {},
   "outputs": [],
   "source": [
    "df_day_distribution = df[df['Year'] ==2021].groupby(['Call Reason', 'Day of Week']).agg(\n",
    "                                                    No_Calls =('Call #', 'count')).reset_index()\n"
   ]
  },
  {
   "cell_type": "code",
   "execution_count": null,
   "metadata": {},
   "outputs": [],
   "source": [
    "ordered_days = ['Monday', 'Tuesday', 'Wednesday', 'Thursday', 'Friday']\n",
    "df_day_distribution['Day of Week'] = (pd.Categorical(df_day_distribution['Day of Week'], \n",
    "                                                     categories=ordered_days, ordered=True))\n",
    "df_day_distribution['Day of Week'].sort_index(inplace= True)"
   ]
  },
  {
   "cell_type": "code",
   "execution_count": null,
   "metadata": {},
   "outputs": [
    {
     "data": {
      "image/png": "[encoded data removed]",
      "text/plain": [
       "<Figure size 1152x360 with 6 Axes>"
      ]
     },
     "metadata": {},
     "output_type": "display_data"
    }
   ],
   "source": [
    "figure, ax = plt.subplots(2,3, figsize=(16, 5), facecolor='w', edgecolor='k', sharex= True, sharey = True)\n",
    "\n",
    "a = 2 #rows\n",
    "b = 3 # columns\n",
    "c = 1 # subplot iterator\n",
    "\n",
    "for i in df_day_distribution['Call Reason'].unique():\n",
    "    plt.subplot(a, b, c)\n",
    "    plt.title(f'{i}')\n",
    "    plt.xlabel(i)\n",
    "    plt.suptitle('Call Distribution by Weekday and Call reason ', size=16)\n",
    "    plt.ylabel('')\n",
    "    plt.xlabel('')\n",
    "\n",
    "    #cmap = sns.diverging_palette(220, 20, as_cmap=True)\n",
    "    k = sns.barplot(x = 'Day of Week', y = 'No_Calls', \n",
    "                    data = df_day_distribution[df_day_distribution['Call Reason'] == i])\n",
    "    sns.despine(bottom = True, left = True)\n",
    "    \n",
    "    c = c + 1\n",
    "    k.set_xlabel('')\n",
    "fig.subplots_adjust(hspace=1)\n",
    "plt.tight_layout()\n",
    "                 \n"
   ]
  },
  {
   "cell_type": "markdown",
   "metadata": {},
   "source": [
    "ii.) **Day of Month**"
   ]
  },
  {
   "cell_type": "code",
   "execution_count": null,
   "metadata": {},
   "outputs": [],
   "source": [
    "dist_day_month = df[df['Year'] ==2021].groupby(['Day']).agg(No_Calls =('Call #', 'count'),\n",
    "                                           freq_Day = ('Call Date', 'nunique')).reset_index()\n",
    "dist_day_month['Avg Calls per DayofMonth'] = (dist_day_month['No_Calls']/dist_day_month['freq_Day']).astype(int)\n"
   ]
  },
  {
   "cell_type": "code",
   "execution_count": null,
   "metadata": {},
   "outputs": [
    {
     "data": {
      "text/plain": [
       "Text(0, 0.5, '')"
      ]
     },
     "execution_count": 37,
     "metadata": {},
     "output_type": "execute_result"
    },
    {
     "data": {
      "image/png": "[encoded data removed]",
      "text/plain": [
       "<Figure size 864x360 with 1 Axes>"
      ]
     },
     "metadata": {},
     "output_type": "display_data"
    }
   ],
   "source": [
    "#Distribution of calls by day of month\n",
    "\n",
    "fig, ax = plt.subplots(1,1, figsize=(12,5))\n",
    "plt.title('Proportion of Calls per Day of Month', fontsize = 16)\n",
    "\n",
    "sns.despine(bottom = True, left = True)\n",
    "plot = sns.barplot(x = 'Day', y = 'Avg Calls per DayofMonth', data = dist_day_month)\n",
    "\n",
    "ax.set_ylabel('') "
   ]
  },
  {
   "cell_type": "markdown",
   "metadata": {},
   "source": [
    "**Call Distribution by Month**"
   ]
  },
  {
   "cell_type": "code",
   "execution_count": null,
   "metadata": {},
   "outputs": [],
   "source": [
    "dist_month = df[df['Year'] ==2021].groupby(['Month']).agg(No_Calls =('Call #', 'count')).reset_index()\n"
   ]
  },
  {
   "cell_type": "code",
   "execution_count": null,
   "metadata": {},
   "outputs": [
    {
     "data": {
      "text/plain": [
       "Text(0, 0.5, '')"
      ]
     },
     "execution_count": 44,
     "metadata": {},
     "output_type": "execute_result"
    },
    {
     "data": {
      "image/png": "[encoded data removed]",
      "text/plain": [
       "<Figure size 864x360 with 1 Axes>"
      ]
     },
     "metadata": {},
     "output_type": "display_data"
    }
   ],
   "source": [
    "months_ordered = [\"Jan\", \"Feb\", \"Mar\", \"Apr\", \"May\", \"Jun\", \"Jul\", \"Aug\", \"Sep\", \"Oct\", \"Nov\", \"Dec\"]\n",
    "fig, ax = plt.subplots(1,1, figsize=(12,5))\n",
    "plt.title('Proportion of Calls per Month', fontsize = 16)\n",
    "\n",
    "sns.despine(bottom = True, left = True)\n",
    "plot = sns.barplot(x = 'Month', y = 'No_Calls', data = dist_month, order = months_ordered)\n",
    "\n",
    "ax.set_ylabel('') "
   ]
  },
  {
   "cell_type": "markdown",
   "metadata": {},
   "source": [
    "**Call Distribution by hour and day of week**"
   ]
  },
  {
   "cell_type": "code",
   "execution_count": null,
   "metadata": {},
   "outputs": [
    {
     "data": {
      "text/html": [
       "<div>\n",
       "<style scoped>\n",
       "    .dataframe tbody tr th:only-of-type {\n",
       "        vertical-align: middle;\n",
       "    }\n",
       "\n",
       "    .dataframe tbody tr th {\n",
       "        vertical-align: top;\n",
       "    }\n",
       "\n",
       "    .dataframe thead th {\n",
       "        text-align: right;\n",
       "    }\n",
       "</style>\n",
       "<table border=\"1\" class=\"dataframe\">\n",
       "  <thead>\n",
       "    <tr style=\"text-align: right;\">\n",
       "      <th></th>\n",
       "      <th>Day of Week</th>\n",
       "      <th>Hour</th>\n",
       "      <th>No_Calls</th>\n",
       "      <th>No_days</th>\n",
       "      <th>No_staff</th>\n",
       "      <th>Average Calls per Day_hour</th>\n",
       "    </tr>\n",
       "  </thead>\n",
       "  <tbody>\n",
       "    <tr>\n",
       "      <th>0</th>\n",
       "      <td>Friday</td>\n",
       "      <td>8</td>\n",
       "      <td>570</td>\n",
       "      <td>48</td>\n",
       "      <td>23</td>\n",
       "      <td>11</td>\n",
       "    </tr>\n",
       "    <tr>\n",
       "      <th>1</th>\n",
       "      <td>Friday</td>\n",
       "      <td>9</td>\n",
       "      <td>2126</td>\n",
       "      <td>48</td>\n",
       "      <td>28</td>\n",
       "      <td>44</td>\n",
       "    </tr>\n",
       "  </tbody>\n",
       "</table>\n",
       "</div>"
      ],
      "text/plain": [
       "  Day of Week  Hour  No_Calls  No_days  No_staff  Average Calls per Day_hour\n",
       "0      Friday     8       570       48        23                          11\n",
       "1      Friday     9      2126       48        28                          44"
      ]
     },
     "execution_count": 15,
     "metadata": {},
     "output_type": "execute_result"
    }
   ],
   "source": [
    "\n",
    "#Heatmap \n",
    "daily_dist = df[df['Year'] ==2021].groupby(['Day of Week','Hour']).agg(\n",
    "                                No_Calls =('Call #', 'count'),\n",
    "                                No_days = ('Call Date', 'nunique'),\n",
    "                                No_staff = ('Agent', 'nunique')).reset_index()\n",
    "daily_dist['Average Calls per Day_hour'] = (daily_dist['No_Calls']/ daily_dist['No_days']).astype(int)\n"
   ]
  },
  {
   "cell_type": "code",
   "execution_count": null,
   "metadata": {},
   "outputs": [
    {
     "data": {
      "text/html": [
       "<div>\n",
       "<style scoped>\n",
       "    .dataframe tbody tr th:only-of-type {\n",
       "        vertical-align: middle;\n",
       "    }\n",
       "\n",
       "    .dataframe tbody tr th {\n",
       "        vertical-align: top;\n",
       "    }\n",
       "\n",
       "    .dataframe thead th {\n",
       "        text-align: right;\n",
       "    }\n",
       "</style>\n",
       "<table border=\"1\" class=\"dataframe\">\n",
       "  <thead>\n",
       "    <tr style=\"text-align: right;\">\n",
       "      <th>Hour</th>\n",
       "      <th>7</th>\n",
       "      <th>8</th>\n",
       "      <th>9</th>\n",
       "      <th>10</th>\n",
       "      <th>11</th>\n",
       "      <th>12</th>\n",
       "      <th>13</th>\n",
       "      <th>14</th>\n",
       "      <th>15</th>\n",
       "      <th>16</th>\n",
       "      <th>17</th>\n",
       "      <th>18</th>\n",
       "      <th>19</th>\n",
       "      <th>20</th>\n",
       "    </tr>\n",
       "  </thead>\n",
       "  <tbody>\n",
       "    <tr>\n",
       "      <th>Monday</th>\n",
       "      <td>1</td>\n",
       "      <td>13</td>\n",
       "      <td>47</td>\n",
       "      <td>65</td>\n",
       "      <td>72</td>\n",
       "      <td>65</td>\n",
       "      <td>68</td>\n",
       "      <td>71</td>\n",
       "      <td>69</td>\n",
       "      <td>54</td>\n",
       "      <td>11</td>\n",
       "      <td>10</td>\n",
       "      <td>4</td>\n",
       "      <td>1</td>\n",
       "    </tr>\n",
       "    <tr>\n",
       "      <th>Tuesday</th>\n",
       "      <td>0</td>\n",
       "      <td>17</td>\n",
       "      <td>54</td>\n",
       "      <td>68</td>\n",
       "      <td>76</td>\n",
       "      <td>64</td>\n",
       "      <td>67</td>\n",
       "      <td>71</td>\n",
       "      <td>69</td>\n",
       "      <td>53</td>\n",
       "      <td>10</td>\n",
       "      <td>4</td>\n",
       "      <td>4</td>\n",
       "      <td>0</td>\n",
       "    </tr>\n",
       "    <tr>\n",
       "      <th>Wednesday</th>\n",
       "      <td>1</td>\n",
       "      <td>17</td>\n",
       "      <td>51</td>\n",
       "      <td>72</td>\n",
       "      <td>77</td>\n",
       "      <td>63</td>\n",
       "      <td>64</td>\n",
       "      <td>65</td>\n",
       "      <td>65</td>\n",
       "      <td>51</td>\n",
       "      <td>9</td>\n",
       "      <td>11</td>\n",
       "      <td>7</td>\n",
       "      <td>0</td>\n",
       "    </tr>\n",
       "    <tr>\n",
       "      <th>Thursday</th>\n",
       "      <td>0</td>\n",
       "      <td>14</td>\n",
       "      <td>48</td>\n",
       "      <td>68</td>\n",
       "      <td>72</td>\n",
       "      <td>60</td>\n",
       "      <td>59</td>\n",
       "      <td>65</td>\n",
       "      <td>60</td>\n",
       "      <td>51</td>\n",
       "      <td>9</td>\n",
       "      <td>5</td>\n",
       "      <td>4</td>\n",
       "      <td>0</td>\n",
       "    </tr>\n",
       "    <tr>\n",
       "      <th>Friday</th>\n",
       "      <td>0</td>\n",
       "      <td>11</td>\n",
       "      <td>44</td>\n",
       "      <td>57</td>\n",
       "      <td>64</td>\n",
       "      <td>53</td>\n",
       "      <td>56</td>\n",
       "      <td>55</td>\n",
       "      <td>53</td>\n",
       "      <td>38</td>\n",
       "      <td>6</td>\n",
       "      <td>9</td>\n",
       "      <td>2</td>\n",
       "      <td>0</td>\n",
       "    </tr>\n",
       "  </tbody>\n",
       "</table>\n",
       "</div>"
      ],
      "text/plain": [
       "Hour       7   8   9   10  11  12  13  14  15  16  17  18  19  20\n",
       "Monday      1  13  47  65  72  65  68  71  69  54  11  10   4   1\n",
       "Tuesday     0  17  54  68  76  64  67  71  69  53  10   4   4   0\n",
       "Wednesday   1  17  51  72  77  63  64  65  65  51   9  11   7   0\n",
       "Thursday    0  14  48  68  72  60  59  65  60  51   9   5   4   0\n",
       "Friday      0  11  44  57  64  53  56  55  53  38   6   9   2   0"
      ]
     },
     "execution_count": 16,
     "metadata": {},
     "output_type": "execute_result"
    }
   ],
   "source": [
    "daily_dist_avg_call_per_hr = daily_dist.pivot_table(index= 'Day of Week', columns= 'Hour', \n",
    "                                   values = 'Average Calls per Day_hour', aggfunc='first', fill_value=0)\n",
    "daily_dist_avg_call_per_hr.index = (pd.Categorical(daily_dist_avg_call_per_hr.index, \n",
    "                                                   categories=ordered_days, ordered=True))\n",
    "daily_dist_avg_call_per_hr.sort_index(inplace= True)\n",
    "daily_dist_avg_call_per_hr"
   ]
  },
  {
   "cell_type": "code",
   "execution_count": null,
   "metadata": {},
   "outputs": [
    {
     "data": {
      "image/png": "[encoded data removed]",
      "text/plain": [
       "<Figure size 1440x360 with 2 Axes>"
      ]
     },
     "metadata": {},
     "output_type": "display_data"
    }
   ],
   "source": [
    "\n",
    "fig,ax = plt.subplots(1,1,figsize=(20,5))\n",
    "my_colors=[(0.2,0.3,0.3),(0.4,0.5,0.4),(0.1,0.7,0),(0.1,0.7,0)]\n",
    "xticks = [str(x)+' AM' if x < 12 else str(x)+' PM' for x in daily_dist_avg_call_per_hr.columns]\n",
    "\n",
    "h_map = sns.heatmap(data =daily_dist_avg_call_per_hr, cmap=my_colors, xticklabels=xticks,\n",
    "                    square =True, linecolor= 'gray', \n",
    "                    linewidth =0.1, annot= True, annot_kws={\"size\": 11}, ax=ax)\n",
    "plt.tick_params(axis='both', which='major', labelsize=10, labelbottom = False, bottom=False, top = False, labeltop=True)\n",
    "fig.tight_layout(pad=0.08)\n",
    "\n",
    "for t in h_map.texts: t.set_text(t.get_text() + \" /hr\")\n",
    "plt.ylabel('')\n",
    "plt.title('Average calls per hour/day ', size =15, y = 1.1)\n",
    "\n",
    "plt.show()\n",
    "\n"
   ]
  },
  {
   "cell_type": "markdown",
   "metadata": {},
   "source": [
    "**Queue Analysis** <br>\n",
    "\n",
    "**Wait Time** <br>\n",
    "\n",
    "    What is the average wait time for all, completed and abandoned calls?"
   ]
  },
  {
   "cell_type": "code",
   "execution_count": null,
   "metadata": {},
   "outputs": [
    {
     "name": "stdout",
     "output_type": "stream",
     "text": [
      "The average wait times for all, completed and incomplete calls are 52s, 75s and 52s respectively.\n"
     ]
    }
   ],
   "source": [
    "avg_wait_all = round(df[df['Year'] ==2021]['Wait Time (s)'].mean())\n",
    "avg_wait_completed = round(df[(df['Year'] ==2021) & (df['Abandon Flag'] == 'Y')]['Wait Time (s)'].mean())\n",
    "avg_wait_incomplete = round(df[(df['Year'] ==2021) & (df['Abandon Flag'] == 'N')]['Wait Time (s)'].mean())\n",
    "\n",
    "print(f'The average wait times for all, completed and incomplete calls are {avg_wait_all}s, {avg_wait_completed}s and {avg_wait_incomplete}s respectively.')"
   ]
  },
  {
   "cell_type": "markdown",
   "metadata": {},
   "source": [
    "    - What is the average wait time per reason of call for abandoned calls?"
   ]
  },
  {
   "cell_type": "code",
   "execution_count": null,
   "metadata": {},
   "outputs": [
    {
     "data": {
      "text/html": [
       "<div>\n",
       "<style scoped>\n",
       "    .dataframe tbody tr th:only-of-type {\n",
       "        vertical-align: middle;\n",
       "    }\n",
       "\n",
       "    .dataframe tbody tr th {\n",
       "        vertical-align: top;\n",
       "    }\n",
       "\n",
       "    .dataframe thead th {\n",
       "        text-align: right;\n",
       "    }\n",
       "</style>\n",
       "<table border=\"1\" class=\"dataframe\">\n",
       "  <thead>\n",
       "    <tr style=\"text-align: right;\">\n",
       "      <th></th>\n",
       "      <th>Call Reason</th>\n",
       "      <th>Avg_wait - completed</th>\n",
       "      <th>Avg_wait - incomplete</th>\n",
       "    </tr>\n",
       "  </thead>\n",
       "  <tbody>\n",
       "    <tr>\n",
       "      <th>0</th>\n",
       "      <td>Billing Questions</td>\n",
       "      <td>52.5</td>\n",
       "      <td>90.0</td>\n",
       "    </tr>\n",
       "    <tr>\n",
       "      <th>1</th>\n",
       "      <td>Internet Outage</td>\n",
       "      <td>51.7</td>\n",
       "      <td>61.5</td>\n",
       "    </tr>\n",
       "    <tr>\n",
       "      <th>2</th>\n",
       "      <td>New Customer</td>\n",
       "      <td>52.9</td>\n",
       "      <td>79.8</td>\n",
       "    </tr>\n",
       "    <tr>\n",
       "      <th>3</th>\n",
       "      <td>Other</td>\n",
       "      <td>50.1</td>\n",
       "      <td>0.0</td>\n",
       "    </tr>\n",
       "    <tr>\n",
       "      <th>4</th>\n",
       "      <td>Product/Service Problems</td>\n",
       "      <td>53.2</td>\n",
       "      <td>102.3</td>\n",
       "    </tr>\n",
       "    <tr>\n",
       "      <th>5</th>\n",
       "      <td>Technical Issues</td>\n",
       "      <td>52.9</td>\n",
       "      <td>72.6</td>\n",
       "    </tr>\n",
       "  </tbody>\n",
       "</table>\n",
       "</div>"
      ],
      "text/plain": [
       "                Call Reason  Avg_wait - completed  Avg_wait - incomplete\n",
       "0         Billing Questions                  52.5                   90.0\n",
       "1           Internet Outage                  51.7                   61.5\n",
       "2              New Customer                  52.9                   79.8\n",
       "3                     Other                  50.1                    0.0\n",
       "4  Product/Service Problems                  53.2                  102.3\n",
       "5          Technical Issues                  52.9                   72.6"
      ]
     },
     "execution_count": 19,
     "metadata": {},
     "output_type": "execute_result"
    }
   ],
   "source": [
    "df_wait_reason = (df[df['Year'] == 2021].groupby(['Call Reason', 'Abandon Flag'],\n",
    "                                        as_index = False)['Wait Time (s)'].mean().round(1).pivot_table(\n",
    "                                        index= 'Call Reason', columns ='Abandon Flag', fill_value =0).\n",
    "                                        reset_index())#.rename_axis(None, axis=1))\n",
    "df_wait_reason.columns = ['Call Reason', 'Avg_wait - completed', 'Avg_wait - incomplete']\n",
    "df_wait_reason"
   ]
  },
  {
   "cell_type": "markdown",
   "metadata": {},
   "source": [
    "    - Distribution Wait time"
   ]
  },
  {
   "cell_type": "code",
   "execution_count": null,
   "metadata": {},
   "outputs": [
    {
     "data": {
      "image/png": "[encoded data removed]",
      "text/plain": [
       "<Figure size 1152x360 with 2 Axes>"
      ]
     },
     "metadata": {},
     "output_type": "display_data"
    }
   ],
   "source": [
    "fig, ax= plt.subplots(nrows= 1, ncols= 2, figsize=(16,5))\n",
    "plt.suptitle('Wait Time Distribution', fontsize = 16)\n",
    "\n",
    "sns.despine(bottom = True, left = True)\n",
    "sns.histplot(df['Wait Time (s)'], ax =ax[0])\n",
    "ax[0].set_xlim(0,400)\n",
    "\n",
    "data = df[df['Year'] == 2021].groupby(['Wait Time Bins'])['Call #'].count().reset_index()\n",
    "data['%_Calls'] = (data['Call #'] * 100 /data['Call #'].sum()).round(1).astype('str') + '%'\n",
    "plot_2 = sns.barplot(data =data, x = 'Wait Time Bins', y = 'Call #', ax =ax[1])\n",
    "\n",
    "#Annotate bar plots\n",
    "for bar, annot in zip(plot_2.patches, data['%_Calls']): \n",
    "    plot_2.annotate(annot,\n",
    "                   (bar.get_x() + bar.get_width() / 2,\n",
    "                    bar.get_height()), ha='center', va='center',\n",
    "                   size=12, xytext=(0, 8),\n",
    "                   textcoords='offset points')\n",
    "plt.tight_layout()\n",
    "plt.show()"
   ]
  },
  {
   "cell_type": "markdown",
   "metadata": {},
   "source": [
    "**Talk Time** <br>\n",
    "\n",
    "-   What is the average talk time?"
   ]
  },
  {
   "cell_type": "code",
   "execution_count": null,
   "metadata": {},
   "outputs": [
    {
     "name": "stdout",
     "output_type": "stream",
     "text": [
      "The average talk time is 4.05 Mins.\n"
     ]
    }
   ],
   "source": [
    "#Filter out abandoned calls\n",
    "talk_time_df= df.iloc[np.where((df['Talk Time (s)'] !=0) & (df['Year'] == 2021))]\n",
    "\n",
    "# Average talk time\n",
    "avg_talk_time = round(talk_time_df['Talk Time (s)'].mean())\n",
    "print(f'The average talk time is {avg_talk_time/60} Mins.')"
   ]
  },
  {
   "cell_type": "markdown",
   "metadata": {},
   "source": [
    "- Talk Time distribution"
   ]
  },
  {
   "cell_type": "code",
   "execution_count": null,
   "metadata": {},
   "outputs": [
    {
     "data": {
      "image/png": "[encoded data removed]",
      "text/plain": [
       "<Figure size 432x360 with 1 Axes>"
      ]
     },
     "metadata": {},
     "output_type": "display_data"
    }
   ],
   "source": [
    "fig, ax= plt.subplots(nrows= 1, ncols= 1, figsize=(6,5))\n",
    "plt.suptitle('Talk Time Distribution', fontsize = 16)\n",
    "\n",
    "sns.despine(bottom = True, left = True)\n",
    "\n",
    "talk_gpd = talk_time_df.groupby(['Talk Time Bins'], as_index = False)['Call #'].count()\n",
    "talk_gpd['%_Calls'] = (talk_gpd['Call #'] * 100 /talk_gpd['Call #'].sum()).round(1).astype('str') + '%'\n",
    "plot_3 = sns.barplot(data = talk_gpd , x = 'Talk Time Bins', y = 'Call #')\n",
    "\n",
    "#Annotate bar plots\n",
    "for bar, annot in zip(plot_3.patches, talk_gpd['%_Calls']): \n",
    "    plot_3.annotate(annot,\n",
    "                   (bar.get_x() + bar.get_width() / 2,\n",
    "                    bar.get_height()), ha='center', va='center',\n",
    "                   size=12, xytext=(0, 8),\n",
    "                   textcoords='offset points')\n",
    "plt.tight_layout()\n",
    "plt.show()\n",
    "\n"
   ]
  },
  {
   "cell_type": "code",
   "execution_count": null,
   "metadata": {},
   "outputs": [
    {
     "data": {
      "text/html": [
       "<div>\n",
       "<style scoped>\n",
       "    .dataframe tbody tr th:only-of-type {\n",
       "        vertical-align: middle;\n",
       "    }\n",
       "\n",
       "    .dataframe tbody tr th {\n",
       "        vertical-align: top;\n",
       "    }\n",
       "\n",
       "    .dataframe thead th {\n",
       "        text-align: right;\n",
       "    }\n",
       "</style>\n",
       "<table border=\"1\" class=\"dataframe\">\n",
       "  <thead>\n",
       "    <tr style=\"text-align: right;\">\n",
       "      <th>Talk Time Bins</th>\n",
       "      <th>&lt;1 min</th>\n",
       "      <th>1 -3 mins</th>\n",
       "      <th>3- 5 mins</th>\n",
       "      <th>5 - 8 mins</th>\n",
       "      <th>&gt;8 mins</th>\n",
       "    </tr>\n",
       "    <tr>\n",
       "      <th>Call Reason</th>\n",
       "      <th></th>\n",
       "      <th></th>\n",
       "      <th></th>\n",
       "      <th></th>\n",
       "      <th></th>\n",
       "    </tr>\n",
       "  </thead>\n",
       "  <tbody>\n",
       "    <tr>\n",
       "      <th>Billing Questions</th>\n",
       "      <td>11.5 %</td>\n",
       "      <td>33.9 %</td>\n",
       "      <td>28.2 %</td>\n",
       "      <td>16.6 %</td>\n",
       "      <td>9.8 %</td>\n",
       "    </tr>\n",
       "    <tr>\n",
       "      <th>Internet Outage</th>\n",
       "      <td>11.3 %</td>\n",
       "      <td>33.6 %</td>\n",
       "      <td>28.1 %</td>\n",
       "      <td>17.2 %</td>\n",
       "      <td>9.8 %</td>\n",
       "    </tr>\n",
       "    <tr>\n",
       "      <th>New Customer</th>\n",
       "      <td>11.8 %</td>\n",
       "      <td>32.5 %</td>\n",
       "      <td>27.7 %</td>\n",
       "      <td>18.8 %</td>\n",
       "      <td>9.2 %</td>\n",
       "    </tr>\n",
       "    <tr>\n",
       "      <th>Other</th>\n",
       "      <td>13.0 %</td>\n",
       "      <td>34.0 %</td>\n",
       "      <td>25.4 %</td>\n",
       "      <td>19.4 %</td>\n",
       "      <td>8.1 %</td>\n",
       "    </tr>\n",
       "    <tr>\n",
       "      <th>Product/Service Problems</th>\n",
       "      <td>11.6 %</td>\n",
       "      <td>34.2 %</td>\n",
       "      <td>27.2 %</td>\n",
       "      <td>17.5 %</td>\n",
       "      <td>9.5 %</td>\n",
       "    </tr>\n",
       "    <tr>\n",
       "      <th>Technical Issues</th>\n",
       "      <td>11.4 %</td>\n",
       "      <td>34.0 %</td>\n",
       "      <td>27.7 %</td>\n",
       "      <td>16.9 %</td>\n",
       "      <td>9.9 %</td>\n",
       "    </tr>\n",
       "  </tbody>\n",
       "</table>\n",
       "</div>"
      ],
      "text/plain": [
       "Talk Time Bins            <1 min 1 -3 mins 3- 5 mins 5 - 8 mins >8 mins\n",
       "Call Reason                                                            \n",
       "Billing Questions         11.5 %    33.9 %    28.2 %     16.6 %   9.8 %\n",
       "Internet Outage           11.3 %    33.6 %    28.1 %     17.2 %   9.8 %\n",
       "New Customer              11.8 %    32.5 %    27.7 %     18.8 %   9.2 %\n",
       "Other                     13.0 %    34.0 %    25.4 %     19.4 %   8.1 %\n",
       "Product/Service Problems  11.6 %    34.2 %    27.2 %     17.5 %   9.5 %\n",
       "Technical Issues          11.4 %    34.0 %    27.7 %     16.9 %   9.9 %"
      ]
     },
     "execution_count": 23,
     "metadata": {},
     "output_type": "execute_result"
    }
   ],
   "source": [
    "t = talk_time_df.groupby(['Talk Time Bins', 'Call Reason'], as_index = False)['Call #'].count()\n",
    "t = (pd.crosstab(columns = talk_time_df['Talk Time Bins'], index = talk_time_df['Call Reason']\n",
    "                , normalize = 'index', )*100).round(1).astype('str')+' %'\n",
    "t"
   ]
  },
  {
   "cell_type": "markdown",
   "metadata": {},
   "source": [
    "From the above crosstab we can conclude that talk time is not a factor of call reason."
   ]
  },
  {
   "cell_type": "markdown",
   "metadata": {},
   "source": [
    "**Schedule Optimization**"
   ]
  },
  {
   "cell_type": "code",
   "execution_count": null,
   "metadata": {},
   "outputs": [
    {
     "data": {
      "text/html": [
       "<div>\n",
       "<style scoped>\n",
       "    .dataframe tbody tr th:only-of-type {\n",
       "        vertical-align: middle;\n",
       "    }\n",
       "\n",
       "    .dataframe tbody tr th {\n",
       "        vertical-align: top;\n",
       "    }\n",
       "\n",
       "    .dataframe thead th {\n",
       "        text-align: right;\n",
       "    }\n",
       "</style>\n",
       "<table border=\"1\" class=\"dataframe\">\n",
       "  <thead>\n",
       "    <tr style=\"text-align: right;\">\n",
       "      <th>Hour</th>\n",
       "      <th>7</th>\n",
       "      <th>8</th>\n",
       "      <th>9</th>\n",
       "      <th>10</th>\n",
       "      <th>11</th>\n",
       "      <th>12</th>\n",
       "      <th>13</th>\n",
       "      <th>14</th>\n",
       "      <th>15</th>\n",
       "      <th>16</th>\n",
       "      <th>17</th>\n",
       "      <th>18</th>\n",
       "      <th>19</th>\n",
       "      <th>20</th>\n",
       "    </tr>\n",
       "    <tr>\n",
       "      <th>Day of Week</th>\n",
       "      <th></th>\n",
       "      <th></th>\n",
       "      <th></th>\n",
       "      <th></th>\n",
       "      <th></th>\n",
       "      <th></th>\n",
       "      <th></th>\n",
       "      <th></th>\n",
       "      <th></th>\n",
       "      <th></th>\n",
       "      <th></th>\n",
       "      <th></th>\n",
       "      <th></th>\n",
       "      <th></th>\n",
       "    </tr>\n",
       "  </thead>\n",
       "  <tbody>\n",
       "    <tr>\n",
       "      <th>Friday</th>\n",
       "      <td>0</td>\n",
       "      <td>23</td>\n",
       "      <td>28</td>\n",
       "      <td>29</td>\n",
       "      <td>29</td>\n",
       "      <td>29</td>\n",
       "      <td>29</td>\n",
       "      <td>29</td>\n",
       "      <td>28</td>\n",
       "      <td>27</td>\n",
       "      <td>18</td>\n",
       "      <td>4</td>\n",
       "      <td>2</td>\n",
       "      <td>0</td>\n",
       "    </tr>\n",
       "    <tr>\n",
       "      <th>Monday</th>\n",
       "      <td>1</td>\n",
       "      <td>24</td>\n",
       "      <td>27</td>\n",
       "      <td>28</td>\n",
       "      <td>29</td>\n",
       "      <td>28</td>\n",
       "      <td>29</td>\n",
       "      <td>29</td>\n",
       "      <td>28</td>\n",
       "      <td>28</td>\n",
       "      <td>17</td>\n",
       "      <td>4</td>\n",
       "      <td>3</td>\n",
       "      <td>1</td>\n",
       "    </tr>\n",
       "    <tr>\n",
       "      <th>Thursday</th>\n",
       "      <td>0</td>\n",
       "      <td>23</td>\n",
       "      <td>28</td>\n",
       "      <td>29</td>\n",
       "      <td>29</td>\n",
       "      <td>29</td>\n",
       "      <td>29</td>\n",
       "      <td>29</td>\n",
       "      <td>28</td>\n",
       "      <td>27</td>\n",
       "      <td>20</td>\n",
       "      <td>7</td>\n",
       "      <td>2</td>\n",
       "      <td>0</td>\n",
       "    </tr>\n",
       "    <tr>\n",
       "      <th>Tuesday</th>\n",
       "      <td>0</td>\n",
       "      <td>26</td>\n",
       "      <td>28</td>\n",
       "      <td>29</td>\n",
       "      <td>29</td>\n",
       "      <td>29</td>\n",
       "      <td>29</td>\n",
       "      <td>29</td>\n",
       "      <td>28</td>\n",
       "      <td>27</td>\n",
       "      <td>19</td>\n",
       "      <td>3</td>\n",
       "      <td>2</td>\n",
       "      <td>0</td>\n",
       "    </tr>\n",
       "    <tr>\n",
       "      <th>Wednesday</th>\n",
       "      <td>1</td>\n",
       "      <td>23</td>\n",
       "      <td>28</td>\n",
       "      <td>29</td>\n",
       "      <td>29</td>\n",
       "      <td>29</td>\n",
       "      <td>29</td>\n",
       "      <td>29</td>\n",
       "      <td>28</td>\n",
       "      <td>28</td>\n",
       "      <td>20</td>\n",
       "      <td>5</td>\n",
       "      <td>4</td>\n",
       "      <td>0</td>\n",
       "    </tr>\n",
       "  </tbody>\n",
       "</table>\n",
       "</div>"
      ],
      "text/plain": [
       "Hour         7   8   9   10  11  12  13  14  15  16  17  18  19  20\n",
       "Day of Week                                                        \n",
       "Friday        0  23  28  29  29  29  29  29  28  27  18   4   2   0\n",
       "Monday        1  24  27  28  29  28  29  29  28  28  17   4   3   1\n",
       "Thursday      0  23  28  29  29  29  29  29  28  27  20   7   2   0\n",
       "Tuesday       0  26  28  29  29  29  29  29  28  27  19   3   2   0\n",
       "Wednesday     1  23  28  29  29  29  29  29  28  28  20   5   4   0"
      ]
     },
     "execution_count": 24,
     "metadata": {},
     "output_type": "execute_result"
    }
   ],
   "source": [
    "# Staff distribution per day of week\n",
    "daily_dist.pivot_table(index= 'Day of Week', columns= 'Hour', \n",
    "                                   values = 'No_staff', aggfunc='first', fill_value=0)"
   ]
  }
 ],
 "metadata": {
  "interpreter": {
   "hash": "482d3cca6a079f04d1053b1594e933c48c12aeb567716e8f07273460d776cf42"
  },
  "kernelspec": {
   "display_name": "Python 3.9.5 ('basic_ds')",
   "language": "python",
   "name": "python3"
  },
  "language_info": {
   "codemirror_mode": {
    "name": "ipython",
    "version": 3
   },
   "file_extension": ".py",
   "mimetype": "text/x-python",
   "name": "python",
   "nbconvert_exporter": "python",
   "pygments_lexer": "ipython3",
   "version": "3.7.10"
  },
  "orig_nbformat": 4
 },
 "nbformat": 4,
 "nbformat_minor": 2
}
