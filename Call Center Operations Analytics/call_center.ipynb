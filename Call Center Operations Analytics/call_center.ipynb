{
 "cells": [
  {
   "cell_type": "markdown",
   "metadata": {},
   "source": [
    "### CALL CENTER OPERATIONS ANALYTICS\n",
    "Author Diana Kung'u"
   ]
  },
  {
   "cell_type": "markdown",
   "metadata": {},
   "source": [
    "Questions:\n",
    "1. Number/proposition of Calls per Reason\n",
    "2. Call Center activity peak analysis <br> \n",
    "     - Distribution of Calls by day of week/month and hour of day\n",
    "3. Abandonment rate <br>\n",
    "\n",
    "     - Estimate number of potential customers lost.\n",
    "\n",
    "4. Wait Duration\n",
    "5. Incoming calls\n",
    "6. Agent Performance\n"
   ]
  },
  {
   "cell_type": "code",
   "execution_count": 83,
   "metadata": {},
   "outputs": [],
   "source": [
    "# Load libraries\n",
    "import pandas as pd\n",
    "import time\n",
    "\n",
    "#plotting\n",
    "import matplotlib.pyplot as plt\n",
    "%matplotlib inline\n",
    "plt.style.use('ggplot')\n",
    "import seaborn as sns\n",
    "sns.set(style='white')"
   ]
  },
  {
   "cell_type": "code",
   "execution_count": 27,
   "metadata": {},
   "outputs": [],
   "source": [
    "\n",
    "#Read data\n",
    "#.............................................................................................\n",
    "chunks = pd.read_csv(r'.\\Data\\call center.csv', parse_dates=['Call Date Time'], chunksize= 5000)\n",
    "call_df = pd.concat(chunks, ignore_index= True)"
   ]
  },
  {
   "cell_type": "code",
   "execution_count": 150,
   "metadata": {},
   "outputs": [
    {
     "data": {
      "text/html": [
       "<div>\n",
       "<style scoped>\n",
       "    .dataframe tbody tr th:only-of-type {\n",
       "        vertical-align: middle;\n",
       "    }\n",
       "\n",
       "    .dataframe tbody tr th {\n",
       "        vertical-align: top;\n",
       "    }\n",
       "\n",
       "    .dataframe thead th {\n",
       "        text-align: right;\n",
       "    }\n",
       "</style>\n",
       "<table border=\"1\" class=\"dataframe\">\n",
       "  <thead>\n",
       "    <tr style=\"text-align: right;\">\n",
       "      <th></th>\n",
       "      <th>Abandon Flag</th>\n",
       "      <th>Agent</th>\n",
       "      <th>Agent Selection Group</th>\n",
       "      <th>Call #</th>\n",
       "      <th>Call Date Time</th>\n",
       "      <th>Call Reason</th>\n",
       "      <th>Customer</th>\n",
       "      <th>First Contact Resolution Flag</th>\n",
       "      <th>Talk Time (s)</th>\n",
       "      <th>Wait Time (s)</th>\n",
       "    </tr>\n",
       "  </thead>\n",
       "  <tbody>\n",
       "    <tr>\n",
       "      <th>0</th>\n",
       "      <td>N</td>\n",
       "      <td>Anabel Grebert</td>\n",
       "      <td>Other</td>\n",
       "      <td>3800023</td>\n",
       "      <td>2021-11-30 09:46:00</td>\n",
       "      <td>Billing Questions</td>\n",
       "      <td>Anderson, Schoen and Pfannerstill</td>\n",
       "      <td>N</td>\n",
       "      <td>143</td>\n",
       "      <td>5</td>\n",
       "    </tr>\n",
       "    <tr>\n",
       "      <th>1</th>\n",
       "      <td>N</td>\n",
       "      <td>Anabel Grebert</td>\n",
       "      <td>Other</td>\n",
       "      <td>3796097</td>\n",
       "      <td>2021-11-29 08:21:00</td>\n",
       "      <td>Billing Questions</td>\n",
       "      <td>Anderson, Schoen and Pfannerstill</td>\n",
       "      <td>N</td>\n",
       "      <td>38</td>\n",
       "      <td>6</td>\n",
       "    </tr>\n",
       "    <tr>\n",
       "      <th>2</th>\n",
       "      <td>N</td>\n",
       "      <td>Anabel Grebert</td>\n",
       "      <td>Other</td>\n",
       "      <td>3772171</td>\n",
       "      <td>2021-11-18 10:20:00</td>\n",
       "      <td>Billing Questions</td>\n",
       "      <td>Anderson, Schoen and Pfannerstill</td>\n",
       "      <td>N</td>\n",
       "      <td>54</td>\n",
       "      <td>6</td>\n",
       "    </tr>\n",
       "  </tbody>\n",
       "</table>\n",
       "</div>"
      ],
      "text/plain": [
       "  Abandon Flag           Agent Agent Selection Group   Call #  \\\n",
       "0            N  Anabel Grebert                 Other  3800023   \n",
       "1            N  Anabel Grebert                 Other  3796097   \n",
       "2            N  Anabel Grebert                 Other  3772171   \n",
       "\n",
       "       Call Date Time        Call Reason                           Customer  \\\n",
       "0 2021-11-30 09:46:00  Billing Questions  Anderson, Schoen and Pfannerstill   \n",
       "1 2021-11-29 08:21:00  Billing Questions  Anderson, Schoen and Pfannerstill   \n",
       "2 2021-11-18 10:20:00  Billing Questions  Anderson, Schoen and Pfannerstill   \n",
       "\n",
       "  First Contact Resolution Flag  Talk Time (s)  Wait Time (s)  \n",
       "0                             N            143              5  \n",
       "1                             N             38              6  \n",
       "2                             N             54              6  "
      ]
     },
     "execution_count": 150,
     "metadata": {},
     "output_type": "execute_result"
    }
   ],
   "source": [
    "df = call_df.copy()\n",
    "df.head(3)"
   ]
  },
  {
   "cell_type": "code",
   "execution_count": 151,
   "metadata": {},
   "outputs": [
    {
     "data": {
      "text/html": [
       "<div>\n",
       "<style scoped>\n",
       "    .dataframe tbody tr th:only-of-type {\n",
       "        vertical-align: middle;\n",
       "    }\n",
       "\n",
       "    .dataframe tbody tr th {\n",
       "        vertical-align: top;\n",
       "    }\n",
       "\n",
       "    .dataframe thead th {\n",
       "        text-align: right;\n",
       "    }\n",
       "</style>\n",
       "<table border=\"1\" class=\"dataframe\">\n",
       "  <thead>\n",
       "    <tr style=\"text-align: right;\">\n",
       "      <th></th>\n",
       "      <th>Abandon Flag</th>\n",
       "      <th>Agent</th>\n",
       "      <th>Agent Selection Group</th>\n",
       "      <th>Call #</th>\n",
       "      <th>Call Date Time</th>\n",
       "      <th>Call Reason</th>\n",
       "      <th>Customer</th>\n",
       "      <th>First Contact Resolution Flag</th>\n",
       "      <th>Talk Time (s)</th>\n",
       "      <th>Wait Time (s)</th>\n",
       "      <th>Call Date</th>\n",
       "      <th>Call Time</th>\n",
       "    </tr>\n",
       "  </thead>\n",
       "  <tbody>\n",
       "    <tr>\n",
       "      <th>0</th>\n",
       "      <td>N</td>\n",
       "      <td>Anabel Grebert</td>\n",
       "      <td>Other</td>\n",
       "      <td>3800023</td>\n",
       "      <td>2021-11-30 09:46:00</td>\n",
       "      <td>Billing Questions</td>\n",
       "      <td>Anderson, Schoen and Pfannerstill</td>\n",
       "      <td>N</td>\n",
       "      <td>143</td>\n",
       "      <td>5</td>\n",
       "      <td>2021-11-30</td>\n",
       "      <td>09:46</td>\n",
       "    </tr>\n",
       "    <tr>\n",
       "      <th>1</th>\n",
       "      <td>N</td>\n",
       "      <td>Anabel Grebert</td>\n",
       "      <td>Other</td>\n",
       "      <td>3796097</td>\n",
       "      <td>2021-11-29 08:21:00</td>\n",
       "      <td>Billing Questions</td>\n",
       "      <td>Anderson, Schoen and Pfannerstill</td>\n",
       "      <td>N</td>\n",
       "      <td>38</td>\n",
       "      <td>6</td>\n",
       "      <td>2021-11-29</td>\n",
       "      <td>08:21</td>\n",
       "    </tr>\n",
       "  </tbody>\n",
       "</table>\n",
       "</div>"
      ],
      "text/plain": [
       "  Abandon Flag           Agent Agent Selection Group   Call #  \\\n",
       "0            N  Anabel Grebert                 Other  3800023   \n",
       "1            N  Anabel Grebert                 Other  3796097   \n",
       "\n",
       "       Call Date Time        Call Reason                           Customer  \\\n",
       "0 2021-11-30 09:46:00  Billing Questions  Anderson, Schoen and Pfannerstill   \n",
       "1 2021-11-29 08:21:00  Billing Questions  Anderson, Schoen and Pfannerstill   \n",
       "\n",
       "  First Contact Resolution Flag  Talk Time (s)  Wait Time (s)  Call Date  \\\n",
       "0                             N            143              5 2021-11-30   \n",
       "1                             N             38              6 2021-11-29   \n",
       "\n",
       "  Call Time  \n",
       "0     09:46  \n",
       "1     08:21  "
      ]
     },
     "execution_count": 151,
     "metadata": {},
     "output_type": "execute_result"
    }
   ],
   "source": [
    "#Data Processing \n",
    "#Split call date and time fields\n",
    "Call_Date, Call_Time= zip(*[(d.date(), d.time()) for d in df['Call Date Time']])\n",
    "df['Call Date'], df['Call Time'] =[Call_Date, Call_Time]\n",
    "\n",
    "#Format Date and time columns to datetime objects\n",
    "df['Call Date'] = pd.to_datetime(df['Call Date'], format='%Y-%m-%d')\n",
    "df['Call Time'] = df['Call Time'].apply(lambda x: x.strftime('%H:%M'))\n",
    "df.head(2)"
   ]
  },
  {
   "cell_type": "code",
   "execution_count": 152,
   "metadata": {},
   "outputs": [
    {
     "data": {
      "text/html": [
       "<div>\n",
       "<style scoped>\n",
       "    .dataframe tbody tr th:only-of-type {\n",
       "        vertical-align: middle;\n",
       "    }\n",
       "\n",
       "    .dataframe tbody tr th {\n",
       "        vertical-align: top;\n",
       "    }\n",
       "\n",
       "    .dataframe thead th {\n",
       "        text-align: right;\n",
       "    }\n",
       "</style>\n",
       "<table border=\"1\" class=\"dataframe\">\n",
       "  <thead>\n",
       "    <tr style=\"text-align: right;\">\n",
       "      <th></th>\n",
       "      <th>Abandon Flag</th>\n",
       "      <th>Agent</th>\n",
       "      <th>Agent Selection Group</th>\n",
       "      <th>Call #</th>\n",
       "      <th>Call Date Time</th>\n",
       "      <th>Call Reason</th>\n",
       "      <th>Customer</th>\n",
       "      <th>First Contact Resolution Flag</th>\n",
       "      <th>Talk Time (s)</th>\n",
       "      <th>Wait Time (s)</th>\n",
       "      <th>Call Date</th>\n",
       "      <th>Call Time</th>\n",
       "      <th>Year</th>\n",
       "      <th>Month</th>\n",
       "      <th>Day of Week</th>\n",
       "      <th>Hour</th>\n",
       "      <th>Day</th>\n",
       "    </tr>\n",
       "  </thead>\n",
       "  <tbody>\n",
       "    <tr>\n",
       "      <th>0</th>\n",
       "      <td>N</td>\n",
       "      <td>Anabel Grebert</td>\n",
       "      <td>Other</td>\n",
       "      <td>3800023</td>\n",
       "      <td>2021-11-30 09:46:00</td>\n",
       "      <td>Billing Questions</td>\n",
       "      <td>Anderson, Schoen and Pfannerstill</td>\n",
       "      <td>N</td>\n",
       "      <td>143</td>\n",
       "      <td>5</td>\n",
       "      <td>2021-11-30</td>\n",
       "      <td>09:46</td>\n",
       "      <td>2021</td>\n",
       "      <td>11</td>\n",
       "      <td>Tuesday</td>\n",
       "      <td>9</td>\n",
       "      <td>30</td>\n",
       "    </tr>\n",
       "    <tr>\n",
       "      <th>1</th>\n",
       "      <td>N</td>\n",
       "      <td>Anabel Grebert</td>\n",
       "      <td>Other</td>\n",
       "      <td>3796097</td>\n",
       "      <td>2021-11-29 08:21:00</td>\n",
       "      <td>Billing Questions</td>\n",
       "      <td>Anderson, Schoen and Pfannerstill</td>\n",
       "      <td>N</td>\n",
       "      <td>38</td>\n",
       "      <td>6</td>\n",
       "      <td>2021-11-29</td>\n",
       "      <td>08:21</td>\n",
       "      <td>2021</td>\n",
       "      <td>11</td>\n",
       "      <td>Monday</td>\n",
       "      <td>8</td>\n",
       "      <td>29</td>\n",
       "    </tr>\n",
       "    <tr>\n",
       "      <th>2</th>\n",
       "      <td>N</td>\n",
       "      <td>Anabel Grebert</td>\n",
       "      <td>Other</td>\n",
       "      <td>3772171</td>\n",
       "      <td>2021-11-18 10:20:00</td>\n",
       "      <td>Billing Questions</td>\n",
       "      <td>Anderson, Schoen and Pfannerstill</td>\n",
       "      <td>N</td>\n",
       "      <td>54</td>\n",
       "      <td>6</td>\n",
       "      <td>2021-11-18</td>\n",
       "      <td>10:20</td>\n",
       "      <td>2021</td>\n",
       "      <td>11</td>\n",
       "      <td>Thursday</td>\n",
       "      <td>10</td>\n",
       "      <td>18</td>\n",
       "    </tr>\n",
       "  </tbody>\n",
       "</table>\n",
       "</div>"
      ],
      "text/plain": [
       "  Abandon Flag           Agent Agent Selection Group   Call #  \\\n",
       "0            N  Anabel Grebert                 Other  3800023   \n",
       "1            N  Anabel Grebert                 Other  3796097   \n",
       "2            N  Anabel Grebert                 Other  3772171   \n",
       "\n",
       "       Call Date Time        Call Reason                           Customer  \\\n",
       "0 2021-11-30 09:46:00  Billing Questions  Anderson, Schoen and Pfannerstill   \n",
       "1 2021-11-29 08:21:00  Billing Questions  Anderson, Schoen and Pfannerstill   \n",
       "2 2021-11-18 10:20:00  Billing Questions  Anderson, Schoen and Pfannerstill   \n",
       "\n",
       "  First Contact Resolution Flag  Talk Time (s)  Wait Time (s)  Call Date  \\\n",
       "0                             N            143              5 2021-11-30   \n",
       "1                             N             38              6 2021-11-29   \n",
       "2                             N             54              6 2021-11-18   \n",
       "\n",
       "  Call Time  Year  Month Day of Week  Hour  Day  \n",
       "0     09:46  2021     11     Tuesday     9   30  \n",
       "1     08:21  2021     11      Monday     8   29  \n",
       "2     10:20  2021     11    Thursday    10   18  "
      ]
     },
     "execution_count": 152,
     "metadata": {},
     "output_type": "execute_result"
    }
   ],
   "source": [
    "# Parse the Year, Month Day, and hour of each call\n",
    "df['Year'] = df['Call Date'].dt.year\n",
    "df['Month'] = df['Call Date'].dt.month\n",
    "df['Day of Week'] = [d.strftime(\"%A\") for d in df['Call Date']]\n",
    "df['Hour'] =  df['Call Date Time'].dt.hour\n",
    "df['Day'] = df['Call Date'].dt.day\n",
    "df.head(3)\n"
   ]
  },
  {
   "cell_type": "code",
   "execution_count": 153,
   "metadata": {},
   "outputs": [],
   "source": [
    "#Duplicated Call #\n",
    "df.drop_duplicates(keep='first', inplace= True)"
   ]
  },
  {
   "cell_type": "code",
   "execution_count": 165,
   "metadata": {},
   "outputs": [],
   "source": [
    "#df[df.duplicated(['Call #'])]"
   ]
  },
  {
   "cell_type": "code",
   "execution_count": 166,
   "metadata": {},
   "outputs": [],
   "source": [
    "df.drop_duplicates('Call #', keep='first', inplace= True)"
   ]
  },
  {
   "cell_type": "markdown",
   "metadata": {},
   "source": [
    "#### Call Reasons\n",
    "1. Frequency of call by reasons\n",
    "2. Distribution"
   ]
  },
  {
   "cell_type": "markdown",
   "metadata": {},
   "source": [
    "1. Frequency of Calls by reason"
   ]
  },
  {
   "cell_type": "code",
   "execution_count": 167,
   "metadata": {},
   "outputs": [
    {
     "data": {
      "text/html": [
       "<div>\n",
       "<style scoped>\n",
       "    .dataframe tbody tr th:only-of-type {\n",
       "        vertical-align: middle;\n",
       "    }\n",
       "\n",
       "    .dataframe tbody tr th {\n",
       "        vertical-align: top;\n",
       "    }\n",
       "\n",
       "    .dataframe thead th {\n",
       "        text-align: right;\n",
       "    }\n",
       "</style>\n",
       "<table border=\"1\" class=\"dataframe\">\n",
       "  <thead>\n",
       "    <tr style=\"text-align: right;\">\n",
       "      <th></th>\n",
       "      <th>Call Reason</th>\n",
       "      <th>No_Calls</th>\n",
       "      <th>Proportion</th>\n",
       "      <th>Proportion %</th>\n",
       "    </tr>\n",
       "  </thead>\n",
       "  <tbody>\n",
       "    <tr>\n",
       "      <th>0</th>\n",
       "      <td>Billing Questions</td>\n",
       "      <td>53107</td>\n",
       "      <td>22.061548</td>\n",
       "      <td>22.1%</td>\n",
       "    </tr>\n",
       "    <tr>\n",
       "      <th>1</th>\n",
       "      <td>Internet Outage</td>\n",
       "      <td>69534</td>\n",
       "      <td>28.885602</td>\n",
       "      <td>28.9%</td>\n",
       "    </tr>\n",
       "    <tr>\n",
       "      <th>2</th>\n",
       "      <td>New Customer</td>\n",
       "      <td>5580</td>\n",
       "      <td>2.318027</td>\n",
       "      <td>2.3%</td>\n",
       "    </tr>\n",
       "    <tr>\n",
       "      <th>3</th>\n",
       "      <td>Other</td>\n",
       "      <td>889</td>\n",
       "      <td>0.369306</td>\n",
       "      <td>0.4%</td>\n",
       "    </tr>\n",
       "    <tr>\n",
       "      <th>4</th>\n",
       "      <td>Product/Service Problems</td>\n",
       "      <td>20950</td>\n",
       "      <td>8.702985</td>\n",
       "      <td>8.7%</td>\n",
       "    </tr>\n",
       "    <tr>\n",
       "      <th>5</th>\n",
       "      <td>Technical Issues</td>\n",
       "      <td>90662</td>\n",
       "      <td>37.662532</td>\n",
       "      <td>37.7%</td>\n",
       "    </tr>\n",
       "  </tbody>\n",
       "</table>\n",
       "</div>"
      ],
      "text/plain": [
       "                Call Reason  No_Calls  Proportion Proportion %\n",
       "0         Billing Questions     53107   22.061548        22.1%\n",
       "1           Internet Outage     69534   28.885602        28.9%\n",
       "2              New Customer      5580    2.318027         2.3%\n",
       "3                     Other       889    0.369306         0.4%\n",
       "4  Product/Service Problems     20950    8.702985         8.7%\n",
       "5          Technical Issues     90662   37.662532        37.7%"
      ]
     },
     "execution_count": 167,
     "metadata": {},
     "output_type": "execute_result"
    }
   ],
   "source": [
    "# Unique call reasons\n",
    "reasons  = df['Call Reason'].unique().tolist()\n",
    "#Frequency of each reason\n",
    "df_reasons = df.groupby(['Call Reason']).agg(No_Calls =('Call #', 'count')).reset_index()\n",
    "df_reasons['Proportion'] =df_reasons['No_Calls']*100/df_reasons['No_Calls'].sum()\n",
    "df_reasons['Proportion %'] = df_reasons['Proportion'].map('{:,.1f}%'.format)\n",
    "df_reasons"
   ]
  },
  {
   "cell_type": "code",
   "execution_count": 168,
   "metadata": {},
   "outputs": [
    {
     "data": {
      "text/plain": [
       "<AxesSubplot:title={'center':'Proportion of Calls per Reason'}, xlabel='Call Reason', ylabel='Proportion'>"
      ]
     },
     "execution_count": 168,
     "metadata": {},
     "output_type": "execute_result"
    },
    {
     "data": {
      "image/png": "[encoded data removed]",
      "text/plain": [
       "<Figure size 864x360 with 1 Axes>"
      ]
     },
     "metadata": {},
     "output_type": "display_data"
    }
   ],
   "source": [
    "plt.figure(figsize=(12,5))\n",
    "plt.title('Proportion of Calls per Reason', fontsize = 16)\n",
    "\n",
    "sns.despine(bottom = True, left = True)\n",
    "sns.barplot(x = 'Call Reason', y = 'Proportion', data = df_reasons)\n"
   ]
  },
  {
   "cell_type": "markdown",
   "metadata": {},
   "source": [
    "Technical Issues, Internet Outages and Billing Questions account for the largest number\n",
    "of calls."
   ]
  },
  {
   "cell_type": "markdown",
   "metadata": {},
   "source": [
    "2. Distribution\n",
    "\n",
    "   I. Day of month/week\n",
    "\n",
    "Number of calls per reason by day/day of week are evenly distributed."
   ]
  },
  {
   "cell_type": "code",
   "execution_count": 169,
   "metadata": {},
   "outputs": [
    {
     "data": {
      "text/html": [
       "<div>\n",
       "<style scoped>\n",
       "    .dataframe tbody tr th:only-of-type {\n",
       "        vertical-align: middle;\n",
       "    }\n",
       "\n",
       "    .dataframe tbody tr th {\n",
       "        vertical-align: top;\n",
       "    }\n",
       "\n",
       "    .dataframe thead th {\n",
       "        text-align: right;\n",
       "    }\n",
       "</style>\n",
       "<table border=\"1\" class=\"dataframe\">\n",
       "  <thead>\n",
       "    <tr style=\"text-align: right;\">\n",
       "      <th></th>\n",
       "      <th>Call Reason</th>\n",
       "      <th>Day of Week</th>\n",
       "      <th>No_Calls</th>\n",
       "    </tr>\n",
       "  </thead>\n",
       "  <tbody>\n",
       "    <tr>\n",
       "      <th>0</th>\n",
       "      <td>Billing Questions</td>\n",
       "      <td>Friday</td>\n",
       "      <td>8815</td>\n",
       "    </tr>\n",
       "    <tr>\n",
       "      <th>1</th>\n",
       "      <td>Billing Questions</td>\n",
       "      <td>Monday</td>\n",
       "      <td>10712</td>\n",
       "    </tr>\n",
       "  </tbody>\n",
       "</table>\n",
       "</div>"
      ],
      "text/plain": [
       "         Call Reason Day of Week  No_Calls\n",
       "0  Billing Questions      Friday      8815\n",
       "1  Billing Questions      Monday     10712"
      ]
     },
     "execution_count": 169,
     "metadata": {},
     "output_type": "execute_result"
    }
   ],
   "source": [
    "df_day_distribution = df.groupby(['Call Reason', 'Day of Week']).agg(No_Calls =('Call #', 'count')).reset_index()\n",
    "df_day_distribution.head(2)"
   ]
  },
  {
   "cell_type": "code",
   "execution_count": 170,
   "metadata": {},
   "outputs": [
    {
     "data": {
      "image/png": "[encoded data removed]",
      "text/plain": [
       "<Figure size 1080x1080 with 6 Axes>"
      ]
     },
     "metadata": {},
     "output_type": "display_data"
    }
   ],
   "source": [
    "figure, axis = plt.subplots(3, 2,figsize=(15, 15), facecolor='w', edgecolor='k')\n",
    "\n",
    "a = 3 #rows\n",
    "b = 2 # columns\n",
    "c = 1 # subplot iterator\n",
    "\n",
    "for i in df_day_distribution['Call Reason'].unique():\n",
    "    plt.subplot(a, b, c)\n",
    "    plt.title(f'{i}')\n",
    "    plt.xlabel(i)\n",
    "    plt.suptitle('Distribution ')\n",
    "    plt.ylabel('')\n",
    "    #cmap = sns.diverging_palette(220, 20, as_cmap=True)\n",
    "    sns.barplot(x = 'Day of Week', y = 'No_Calls', data = df_day_distribution[df_day_distribution['Call Reason'] == i])\n",
    "    sns.despine(bottom = True, left = True)\n",
    "    c = c + 1\n",
    "                "
   ]
  },
  {
   "cell_type": "code",
   "execution_count": 178,
   "metadata": {},
   "outputs": [],
   "source": [
    "#Distribution by hour and day of week\n",
    "#Heatmap \n",
    "daily_dist = df.groupby(['Day of Week','Hour']).agg(No_Calls =('Call #', 'count')).reset_index()\n"
   ]
  },
  {
   "cell_type": "code",
   "execution_count": 172,
   "metadata": {},
   "outputs": [
    {
     "data": {
      "text/plain": [
       "126011"
      ]
     },
     "execution_count": 172,
     "metadata": {},
     "output_type": "execute_result"
    }
   ],
   "source": [
    "#Total Incoming call in 2021\n",
    "len(df[df['Year'] ==2021])"
   ]
  },
  {
   "cell_type": "code",
   "execution_count": 180,
   "metadata": {},
   "outputs": [
    {
     "data": {
      "text/plain": [
       "12"
      ]
     },
     "execution_count": 180,
     "metadata": {},
     "output_type": "execute_result"
    }
   ],
   "source": [
    "#No. of Agents\n",
    "df[df['Year'] ==2021]['Agent'].nunique()\n",
    "df['Customer'].nunique()"
   ]
  }
 ],
 "metadata": {
  "interpreter": {
   "hash": "482d3cca6a079f04d1053b1594e933c48c12aeb567716e8f07273460d776cf42"
  },
  "kernelspec": {
   "display_name": "Python 3.9.5 ('basic_ds')",
   "language": "python",
   "name": "python3"
  },
  "language_info": {
   "codemirror_mode": {
    "name": "ipython",
    "version": 3
   },
   "file_extension": ".py",
   "mimetype": "text/x-python",
   "name": "python",
   "nbconvert_exporter": "python",
   "pygments_lexer": "ipython3",
   "version": "3.7.10"
  },
  "orig_nbformat": 4
 },
 "nbformat": 4,
 "nbformat_minor": 2
}
